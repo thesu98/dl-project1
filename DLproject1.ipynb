{
 "cells": [
  {
   "cell_type": "code",
   "execution_count": 1,
   "metadata": {
    "id": "yW80IihKFB9F"
   },
   "outputs": [],
   "source": [
    "import torch, gc\n",
    "import torch.nn as nn\n",
    "import torch.nn.functional as F\n",
    "import torchvision\n",
    "import torchvision.transforms as transforms"
   ]
  },
  {
   "cell_type": "code",
   "execution_count": 2,
   "metadata": {},
   "outputs": [],
   "source": [
    "import sys\n",
    "sys.path.append(r\"C:\\Users\\suxin\\PycharmProjects\\pythonProject\")\n",
    "from AutoAugment import ImageNetPolicy"
   ]
  },
  {
   "cell_type": "code",
   "execution_count": 3,
   "metadata": {
    "colab": {
     "base_uri": "https://localhost:8080/"
    },
    "id": "OXAh-7F9ChoI",
    "outputId": "d42996c4-a954-4a69-9a9a-36c834baaee3"
   },
   "outputs": [
    {
     "name": "stdout",
     "output_type": "stream",
     "text": [
      "Files already downloaded and verified\n",
      "Files already downloaded and verified\n"
     ]
    }
   ],
   "source": [
    "transform_train = transforms.Compose([\n",
    "# 对原始32*32图像四周各填充4个0像素（40*40），然后随机裁剪成32*32\n",
    "#transforms.RandomCrop(32, padding=4),\n",
    "# transforms.RandomResizedCrop(224),\n",
    "# 按0.5的概率水平翻转图片\n",
    "#transforms.RandomHorizontalFlip(),\n",
    "ImageNetPolicy(),\n",
    "#transforms.ColorJitter(brightness=0.5, contrast=0.5, saturation=0.5, hue=0.5),\n",
    "transforms.ToTensor(),\n",
    "transforms.Normalize([0.485, 0.456, 0.406], [0.229, 0.224, 0.225])])\n",
    "# transforms.Normalize([0.5, 0.5, 0.5], [0.5, 0.5, 0.5])])\n",
    "\n",
    "\n",
    "transform_test = transforms.Compose([\n",
    "transforms.ToTensor(),\n",
    "transforms.Normalize([0.485, 0.456, 0.406], [0.229, 0.224, 0.225])])\n",
    "# transforms.Normalize([0.5, 0.5, 0.5], [0.5, 0.5, 0.5])])\n",
    "\n",
    "\n",
    "trainingdata = torchvision.datasets.CIFAR10('./CIFAR10/',train=True,download=True,transform=transform_train)\n",
    "testdata = torchvision.datasets.CIFAR10('./CIFAR10/',train=False,download=True,transform=transform_test)"
   ]
  },
  {
   "cell_type": "code",
   "execution_count": 4,
   "metadata": {
    "id": "888qmwYpDiFt"
   },
   "outputs": [],
   "source": [
    "trainDataLoader = torch.utils.data.DataLoader(trainingdata,batch_size=128,shuffle=True)\n",
    "testDataLoader = torch.utils.data.DataLoader(testdata,batch_size=128,shuffle=False)"
   ]
  },
  {
   "cell_type": "code",
   "execution_count": 5,
   "metadata": {
    "id": "gO8vA91PCVYD"
   },
   "outputs": [],
   "source": [
    "class BasicBlock(nn.Module):\n",
    "\n",
    "    def __init__(self, in_planes, planes, stride=1):\n",
    "        super(BasicBlock, self).__init__()\n",
    "        self.conv1 = nn.Conv2d(in_planes, planes, kernel_size=3, stride=stride, padding=1, bias=False)\n",
    "        self.bn1 = nn.BatchNorm2d(planes)\n",
    "        self.conv1_dropout = nn.Dropout2d(p=0.5)\n",
    "        self.conv2 = nn.Conv2d(planes, planes, kernel_size=3, stride=1, padding=1, bias=False)\n",
    "        self.bn2 = nn.BatchNorm2d(planes)\n",
    "        self.conv2_dropout = nn.Dropout2d(p=0.5)\n",
    "\n",
    "        self.shortcut = nn.Sequential()\n",
    "        if stride != 1 or in_planes != planes:\n",
    "            self.shortcut = nn.Sequential(\n",
    "                nn.Conv2d(in_planes, planes, kernel_size=1, stride=stride, bias=False),\n",
    "                nn.BatchNorm2d(planes)\n",
    "            )\n",
    "\n",
    "    def forward(self, x):\n",
    "        out = F.relu(self.bn1(self.conv1(x)))\n",
    "        out = self.conv1_dropout(out)\n",
    "        out = self.bn2(self.conv2(out))\n",
    "        out = self.conv2_dropout(out)\n",
    "        out += self.shortcut(x)\n",
    "        out = F.relu(out)\n",
    "        return out\n",
    "\n",
    "\n",
    "\n",
    "class ResNet(nn.Module):\n",
    "    def __init__(self, block, num_blocks, num_classes=10):\n",
    "        super(ResNet, self).__init__()\n",
    "        self.in_planes = 32\n",
    "\n",
    "        self.conv1 = nn.Conv2d(3, 32, kernel_size=3,\n",
    "                               stride=1, padding=1, bias=False)\n",
    "        self.bn1 = nn.BatchNorm2d(32)\n",
    "        self.layer1 = self._make_layer(block, 32, num_blocks[0], stride=1)\n",
    "        self.layer2 = self._make_layer(block, 64, num_blocks[1], stride=2)\n",
    "        self.layer3 = self._make_layer(block, 128, num_blocks[2], stride=2)\n",
    "        self.layer4 = self._make_layer(block, 256, num_blocks[3], stride=2)\n",
    "#         self.avg_pool = nn.AdaptiveAvgPool2d((1, 1))\n",
    "        self.linear = nn.Linear(256, num_classes)\n",
    "\n",
    "    def _make_layer(self, block, planes, num_blocks, stride):\n",
    "        strides = [stride] + [1]*(num_blocks-1)\n",
    "        layers = []\n",
    "        for stride in strides:\n",
    "            layers.append(block(self.in_planes, planes, stride))\n",
    "            self.in_planes = planes\n",
    "        return nn.Sequential(*layers)\n",
    "\n",
    "    def forward(self, x):\n",
    "        out = F.relu(self.bn1(self.conv1(x)))\n",
    "        out = self.layer1(out)\n",
    "        out = self.layer2(out)\n",
    "        out = self.layer3(out)\n",
    "        out = self.layer4(out)\n",
    "        out = F.avg_pool2d(out, 4)\n",
    "        out = out.view(out.size(0), -1)\n",
    "        out = self.linear(out)\n",
    "        return out\n",
    "\n",
    "def project1_model():\n",
    "    return ResNet(BasicBlock, [3,6,4,3])\n",
    "\n",
    "net = project1_model().cuda()\n",
    "Loss = torch.nn.CrossEntropyLoss()\n",
    "optimizer = torch.optim.Adam(net.parameters(), lr = 0.01)\n",
    "scheduler = torch.optim.lr_scheduler.StepLR(optimizer, step_size=50, gamma=0.1)"
   ]
  },
  {
   "cell_type": "code",
   "execution_count": 6,
   "metadata": {},
   "outputs": [
    {
     "data": {
      "text/plain": [
       "4883626"
      ]
     },
     "execution_count": 6,
     "metadata": {},
     "output_type": "execute_result"
    }
   ],
   "source": [
    "def count_parameters(model):\n",
    "    return sum(p.numel() for p in model.parameters() if p.requires_grad)\n",
    "count_parameters(net)"
   ]
  },
  {
   "cell_type": "code",
   "execution_count": 7,
   "metadata": {},
   "outputs": [],
   "source": [
    "def calculate_accu():\n",
    "    return (torch.eq(torch.max(predicted_output, 1)[1],labels).sum()/len(labels)*100).data.cpu().numpy()"
   ]
  },
  {
   "cell_type": "code",
   "execution_count": 8,
   "metadata": {},
   "outputs": [
    {
     "name": "stdout",
     "output_type": "stream",
     "text": [
      "Epoch 0, Train loss 2.3897583698067826, Test loss 2.2841192076477825, accuracy 12.5 %\n",
      "Epoch 1, Train loss 2.259875908532106, Test loss 2.083724273911005, accuracy 18.75 %\n",
      "Epoch 2, Train loss 2.1570099339155893, Test loss 1.9328666080402424, accuracy 12.5 %\n",
      "Epoch 3, Train loss 2.0253156850405056, Test loss 1.7877558499951907, accuracy 12.5 %\n",
      "Epoch 4, Train loss 1.8973208696336088, Test loss 1.612214856509921, accuracy 50.0 %\n",
      "Epoch 5, Train loss 1.7576053160840592, Test loss 1.5164270959322965, accuracy 62.5 %\n",
      "Epoch 6, Train loss 1.6204329814447467, Test loss 1.3457864507844177, accuracy 56.25 %\n",
      "Epoch 7, Train loss 1.5116971276910103, Test loss 1.257725282560421, accuracy 62.5 %\n",
      "Epoch 8, Train loss 1.4288743917289597, Test loss 1.179769753655301, accuracy 50.0 %\n",
      "Epoch 9, Train loss 1.370121762880584, Test loss 1.1360615069353128, accuracy 68.75 %\n",
      "Epoch 10, Train loss 1.3179819791213325, Test loss 1.103016379513318, accuracy 68.75 %\n",
      "Epoch 11, Train loss 1.272003652037257, Test loss 1.0473975984356072, accuracy 56.25 %\n",
      "Epoch 12, Train loss 1.2362986676528325, Test loss 1.018619495102122, accuracy 43.75 %\n",
      "Epoch 13, Train loss 1.2007470928189699, Test loss 1.0065930395186702, accuracy 56.25 %\n",
      "Epoch 14, Train loss 1.165443860051577, Test loss 1.0404571709753592, accuracy 56.25 %\n",
      "Epoch 15, Train loss 1.132201606660243, Test loss 0.9212344567986983, accuracy 75.0 %\n",
      "Epoch 16, Train loss 1.0985367224954279, Test loss 0.899046190177338, accuracy 68.75 %\n",
      "Epoch 17, Train loss 1.0768561684871878, Test loss 0.9026512066020241, accuracy 56.25 %\n",
      "Epoch 18, Train loss 1.051788674138696, Test loss 0.8525672788861431, accuracy 68.75 %\n",
      "Epoch 19, Train loss 1.029350471008769, Test loss 0.8515619379055651, accuracy 50.0 %\n",
      "Epoch 20, Train loss 1.0029824528547808, Test loss 0.8493043342723122, accuracy 68.75 %\n",
      "Epoch 21, Train loss 0.9878624336189016, Test loss 0.8095035741600809, accuracy 62.5 %\n",
      "Epoch 22, Train loss 0.9632751287706672, Test loss 0.8026936280576489, accuracy 62.5 %\n",
      "Epoch 23, Train loss 0.9504187046109563, Test loss 0.7842477839204329, accuracy 62.5 %\n",
      "Epoch 24, Train loss 0.9278391735328128, Test loss 0.7882894692541678, accuracy 68.75 %\n",
      "Epoch 25, Train loss 0.9136813618338017, Test loss 0.778148574165151, accuracy 68.75 %\n",
      "Epoch 26, Train loss 0.9065292962371846, Test loss 0.7752761674832694, accuracy 68.75 %\n",
      "Epoch 27, Train loss 0.889786051972138, Test loss 0.7648926377296448, accuracy 68.75 %\n",
      "Epoch 28, Train loss 0.8787385217673943, Test loss 0.7366519208195843, accuracy 75.0 %\n",
      "Epoch 29, Train loss 0.8670290299998525, Test loss 0.7353578421133983, accuracy 75.0 %\n",
      "Epoch 30, Train loss 0.8560647676363016, Test loss 0.7358010984674285, accuracy 62.5 %\n",
      "Epoch 31, Train loss 0.8405451786792492, Test loss 0.7377037217345419, accuracy 75.0 %\n",
      "Epoch 32, Train loss 0.8236889999235988, Test loss 0.7098346337487426, accuracy 81.25 %\n",
      "Epoch 33, Train loss 0.8178804015259609, Test loss 0.7070670007150385, accuracy 62.5 %\n",
      "Epoch 34, Train loss 0.8096425944886854, Test loss 0.6880944540983513, accuracy 75.0 %\n",
      "Epoch 35, Train loss 0.8065789314487096, Test loss 0.7089047443263138, accuracy 75.0 %\n",
      "Epoch 36, Train loss 0.7913406735186077, Test loss 0.6969712523719932, accuracy 87.5 %\n",
      "Epoch 37, Train loss 0.7861207459893678, Test loss 0.6784369572053982, accuracy 81.25 %\n",
      "Epoch 38, Train loss 0.777741848050481, Test loss 0.6804700625848167, accuracy 75.0 %\n",
      "Epoch 39, Train loss 0.7764777958088214, Test loss 0.6988551646848268, accuracy 81.25 %\n",
      "Epoch 40, Train loss 0.7607857642118888, Test loss 0.6848892852475371, accuracy 68.75 %\n",
      "Epoch 41, Train loss 0.7570693401424476, Test loss 0.6784078497675401, accuracy 81.25 %\n",
      "Epoch 42, Train loss 0.7530327541444003, Test loss 0.6623764162576651, accuracy 75.0 %\n",
      "Epoch 43, Train loss 0.7419766377457573, Test loss 0.650378903256187, accuracy 75.0 %\n",
      "Epoch 44, Train loss 0.7352914701184958, Test loss 0.6538340460650528, accuracy 68.75 %\n",
      "Epoch 45, Train loss 0.7342839556581834, Test loss 0.6565828198873545, accuracy 68.75 %\n",
      "Epoch 46, Train loss 0.724833940987087, Test loss 0.6802779711499999, accuracy 62.5 %\n",
      "Epoch 47, Train loss 0.7262832551356166, Test loss 0.6404877546467359, accuracy 75.0 %\n",
      "Epoch 48, Train loss 0.7161401689357465, Test loss 0.6475535446329962, accuracy 81.25 %\n",
      "Epoch 49, Train loss 0.7091066867799101, Test loss 0.6367756663998471, accuracy 68.75 %\n",
      "Epoch 50, Train loss 0.6563612824053411, Test loss 0.6060784206360201, accuracy 87.5 %\n",
      "Epoch 51, Train loss 0.6403602997360327, Test loss 0.6140965012055409, accuracy 81.25 %\n",
      "Epoch 52, Train loss 0.6288462532755664, Test loss 0.6035124342652816, accuracy 81.25 %\n",
      "Epoch 53, Train loss 0.6171937761709209, Test loss 0.5932326181025445, accuracy 87.5 %\n",
      "Epoch 54, Train loss 0.6104545594023927, Test loss 0.5937712788581848, accuracy 75.0 %\n",
      "Epoch 55, Train loss 0.6051575233564352, Test loss 0.5905523809451091, accuracy 81.25 %\n",
      "Epoch 56, Train loss 0.5977978447209233, Test loss 0.5899210874038406, accuracy 81.25 %\n",
      "Epoch 57, Train loss 0.5986473563382083, Test loss 0.5892992208275614, accuracy 87.5 %\n",
      "Epoch 58, Train loss 0.5945405173484627, Test loss 0.5834035530120512, accuracy 75.0 %\n",
      "Epoch 59, Train loss 0.5946550454629962, Test loss 0.5862771038767658, accuracy 81.25 %\n",
      "Epoch 60, Train loss 0.5845660215143658, Test loss 0.5775165233430983, accuracy 87.5 %\n",
      "Epoch 61, Train loss 0.5860169748668476, Test loss 0.5834055558035646, accuracy 68.75 %\n",
      "Epoch 62, Train loss 0.5845291528402997, Test loss 0.584736830071558, accuracy 75.0 %\n",
      "Epoch 63, Train loss 0.5754593151914494, Test loss 0.5801169302644609, accuracy 87.5 %\n",
      "Epoch 64, Train loss 0.5786532729178133, Test loss 0.5666650280922274, accuracy 87.5 %\n",
      "Epoch 65, Train loss 0.5788612270446689, Test loss 0.5771764079226723, accuracy 81.25 %\n",
      "Epoch 66, Train loss 0.5677904576596702, Test loss 0.5644531099102165, accuracy 93.75 %\n",
      "Epoch 67, Train loss 0.568459411106451, Test loss 0.5753047221069094, accuracy 93.75 %\n",
      "Epoch 68, Train loss 0.5694761767106897, Test loss 0.5784570272964767, accuracy 81.25 %\n",
      "Epoch 69, Train loss 0.5634683034456599, Test loss 0.5673377170592924, accuracy 87.5 %\n",
      "Epoch 70, Train loss 0.5659965076257506, Test loss 0.5644470521166355, accuracy 87.5 %\n",
      "Epoch 71, Train loss 0.5620668512933394, Test loss 0.5755213525476335, accuracy 81.25 %\n",
      "Epoch 72, Train loss 0.5595073400403533, Test loss 0.5678200269047218, accuracy 87.5 %\n",
      "Epoch 73, Train loss 0.5580023274092418, Test loss 0.5711093322385715, accuracy 87.5 %\n",
      "Epoch 74, Train loss 0.5617264277489898, Test loss 0.5695418119430542, accuracy 87.5 %\n",
      "Epoch 75, Train loss 0.5533080923435328, Test loss 0.5731021550637257, accuracy 81.25 %\n",
      "Epoch 76, Train loss 0.5532799873815473, Test loss 0.5787929417211798, accuracy 87.5 %\n",
      "Epoch 77, Train loss 0.5542097194572849, Test loss 0.5596779256681853, accuracy 87.5 %\n",
      "Epoch 78, Train loss 0.5497372483505922, Test loss 0.5688523144661626, accuracy 87.5 %\n",
      "Epoch 79, Train loss 0.548428207483438, Test loss 0.5574905159352701, accuracy 87.5 %\n",
      "Epoch 80, Train loss 0.5495602564738534, Test loss 0.5769845718824411, accuracy 75.0 %\n",
      "Epoch 81, Train loss 0.5387550308881208, Test loss 0.5703253591362434, accuracy 81.25 %\n",
      "Epoch 82, Train loss 0.5475364265691899, Test loss 0.5673958832704569, accuracy 81.25 %\n",
      "Epoch 83, Train loss 0.5393426468610154, Test loss 0.5625989682312253, accuracy 87.5 %\n",
      "Epoch 84, Train loss 0.541070278419558, Test loss 0.5683233383335645, accuracy 87.5 %\n",
      "Epoch 85, Train loss 0.5421173642663395, Test loss 0.5695984129664264, accuracy 75.0 %\n",
      "Epoch 86, Train loss 0.5387084503155535, Test loss 0.5666757584372654, accuracy 93.75 %\n",
      "Epoch 87, Train loss 0.5382040295454548, Test loss 0.5603450521638121, accuracy 81.25 %\n",
      "Epoch 88, Train loss 0.536022325153546, Test loss 0.5554638682286951, accuracy 81.25 %\n",
      "Epoch 89, Train loss 0.5390935653006025, Test loss 0.5641507344155372, accuracy 81.25 %\n",
      "Epoch 90, Train loss 0.5359918700002343, Test loss 0.5715103032468241, accuracy 81.25 %\n",
      "Epoch 91, Train loss 0.5298004238044515, Test loss 0.561579215375683, accuracy 87.5 %\n",
      "Epoch 92, Train loss 0.5350290417213879, Test loss 0.5564397909218752, accuracy 87.5 %\n",
      "Epoch 93, Train loss 0.5238502078196582, Test loss 0.54887263344813, accuracy 87.5 %\n",
      "Epoch 94, Train loss 0.529402973020778, Test loss 0.5607763857026643, accuracy 81.25 %\n"
     ]
    },
    {
     "name": "stdout",
     "output_type": "stream",
     "text": [
      "Epoch 95, Train loss 0.5288091974947459, Test loss 0.561106334004221, accuracy 87.5 %\n",
      "Epoch 96, Train loss 0.5210220800793689, Test loss 0.5640591647051558, accuracy 87.5 %\n",
      "Epoch 97, Train loss 0.527639614346692, Test loss 0.5632127851625032, accuracy 87.5 %\n",
      "Epoch 98, Train loss 0.5235541756348232, Test loss 0.5554822238185738, accuracy 93.75 %\n",
      "Epoch 99, Train loss 0.5240547772868515, Test loss 0.5483283193051061, accuracy 81.25 %\n",
      "Epoch 100, Train loss 0.516079192957305, Test loss 0.5549218926248671, accuracy 87.5 %\n",
      "Epoch 101, Train loss 0.5146222052061954, Test loss 0.5697351762011081, accuracy 81.25 %\n",
      "Epoch 102, Train loss 0.5180534416299951, Test loss 0.5483839470374433, accuracy 81.25 %\n",
      "Epoch 103, Train loss 0.5097382022139362, Test loss 0.5604831240599668, accuracy 68.75 %\n",
      "Epoch 104, Train loss 0.517737773678187, Test loss 0.5449087144453314, accuracy 93.75 %\n",
      "Epoch 105, Train loss 0.5135015179891416, Test loss 0.5512630550921718, accuracy 81.25 %\n",
      "Epoch 106, Train loss 0.5158007629692097, Test loss 0.563012230245373, accuracy 81.25 %\n",
      "Epoch 107, Train loss 0.5177786388360631, Test loss 0.5545516696911824, accuracy 87.5 %\n",
      "Epoch 108, Train loss 0.5172078758859269, Test loss 0.5597789649721943, accuracy 81.25 %\n",
      "Epoch 109, Train loss 0.5112767782814972, Test loss 0.5551598883127864, accuracy 93.75 %\n",
      "Epoch 110, Train loss 0.509432186327322, Test loss 0.5558371019514301, accuracy 87.5 %\n",
      "Epoch 111, Train loss 0.5095529329136509, Test loss 0.5502595229993893, accuracy 75.0 %\n",
      "Epoch 112, Train loss 0.5134880612878239, Test loss 0.555296043051949, accuracy 81.25 %\n",
      "Epoch 113, Train loss 0.5058698340907426, Test loss 0.5501424300519726, accuracy 87.5 %\n",
      "Epoch 114, Train loss 0.5119011860979182, Test loss 0.5545354628864723, accuracy 87.5 %\n",
      "Epoch 115, Train loss 0.5040739481254002, Test loss 0.5486484260498723, accuracy 81.25 %\n",
      "Epoch 116, Train loss 0.512355819001527, Test loss 0.5508383791657943, accuracy 81.25 %\n",
      "Epoch 117, Train loss 0.5143035506958242, Test loss 0.5562513945977899, accuracy 75.0 %\n",
      "Epoch 118, Train loss 0.5068330606231299, Test loss 0.5594673507575747, accuracy 87.5 %\n",
      "Epoch 119, Train loss 0.5116769400856379, Test loss 0.559264435798307, accuracy 81.25 %\n",
      "Epoch 120, Train loss 0.5086147530609385, Test loss 0.5568363892881176, accuracy 81.25 %\n",
      "Epoch 121, Train loss 0.5078665920535622, Test loss 0.557411370398123, accuracy 93.75 %\n",
      "Epoch 122, Train loss 0.5112423024061695, Test loss 0.5559368276897865, accuracy 81.25 %\n",
      "Epoch 123, Train loss 0.5087543447761584, Test loss 0.5495723297324362, accuracy 87.5 %\n",
      "Epoch 124, Train loss 0.5152211174788073, Test loss 0.5500626220733305, accuracy 87.5 %\n",
      "Epoch 125, Train loss 0.5077550082712832, Test loss 0.5613963973673084, accuracy 81.25 %\n",
      "Epoch 126, Train loss 0.5073228965482444, Test loss 0.5536316433284856, accuracy 87.5 %\n",
      "Epoch 127, Train loss 0.515434253932265, Test loss 0.5436239065248755, accuracy 93.75 %\n",
      "Epoch 128, Train loss 0.5079907185738654, Test loss 0.552914058105855, accuracy 81.25 %\n",
      "Epoch 129, Train loss 0.5051098725070124, Test loss 0.5579828846303723, accuracy 87.5 %\n",
      "Epoch 130, Train loss 0.5060167715829962, Test loss 0.5558285501938832, accuracy 87.5 %\n",
      "Epoch 131, Train loss 0.5062749636981189, Test loss 0.5583511749400368, accuracy 81.25 %\n",
      "Epoch 132, Train loss 0.507482476399073, Test loss 0.5515508862990367, accuracy 87.5 %\n",
      "Epoch 133, Train loss 0.5164772833857085, Test loss 0.5554183563099632, accuracy 87.5 %\n",
      "Epoch 134, Train loss 0.5025402674132295, Test loss 0.5531164030485516, accuracy 87.5 %\n",
      "Epoch 135, Train loss 0.50296905202329, Test loss 0.5464834212502346, accuracy 81.25 %\n",
      "Epoch 136, Train loss 0.5031830913880292, Test loss 0.5592615098892888, accuracy 81.25 %\n",
      "Epoch 137, Train loss 0.500598665012423, Test loss 0.5541135185881506, accuracy 87.5 %\n",
      "Epoch 138, Train loss 0.5092953502979425, Test loss 0.5500036779838272, accuracy 87.5 %\n",
      "Epoch 139, Train loss 0.5068713960135379, Test loss 0.5474170435078537, accuracy 81.25 %\n",
      "Epoch 140, Train loss 0.5059021556621317, Test loss 0.548850153065935, accuracy 87.5 %\n",
      "Epoch 141, Train loss 0.5090987327153725, Test loss 0.556015715191636, accuracy 81.25 %\n",
      "Epoch 142, Train loss 0.5066961761935592, Test loss 0.5539531017406077, accuracy 81.25 %\n",
      "Epoch 143, Train loss 0.5015710580074574, Test loss 0.5589481505412089, accuracy 75.0 %\n",
      "Epoch 144, Train loss 0.5054416542925189, Test loss 0.5490684614905829, accuracy 81.25 %\n",
      "Epoch 145, Train loss 0.5052748892618262, Test loss 0.5482083457180217, accuracy 81.25 %\n",
      "Epoch 146, Train loss 0.5025997609281174, Test loss 0.5538562004324756, accuracy 81.25 %\n",
      "Epoch 147, Train loss 0.5035030201572896, Test loss 0.5533609156367145, accuracy 87.5 %\n",
      "Epoch 148, Train loss 0.5040814397127732, Test loss 0.5555819239042983, accuracy 87.5 %\n",
      "Epoch 149, Train loss 0.5019851433651527, Test loss 0.5471990878068949, accuracy 87.5 %\n"
     ]
    }
   ],
   "source": [
    "train_loss_history = []\n",
    "test_loss_history = []\n",
    "accuracy_history = []\n",
    "\n",
    "for epoch in range(150):\n",
    "    train_loss = 0.0\n",
    "    test_loss = 0.0\n",
    "    for i, data in enumerate(trainDataLoader):\n",
    "        images, labels = data\n",
    "        images = images.cuda()\n",
    "        labels = labels.cuda()\n",
    "        optimizer.zero_grad()\n",
    "        predicted_output = net(images)\n",
    "        fit = Loss(predicted_output,labels)\n",
    "        fit.backward()\n",
    "        optimizer.step()\n",
    "        train_loss += fit.item()\n",
    "    for i, data in enumerate(testDataLoader):\n",
    "        images, labels = data\n",
    "        images = images.cuda()\n",
    "        labels = labels.cuda()\n",
    "        predicted_output = net(images)\n",
    "        fit = Loss(predicted_output,labels)\n",
    "        test_loss += fit.item()\n",
    "    scheduler.step()\n",
    "    train_loss = train_loss/len(trainDataLoader)\n",
    "    test_loss = test_loss/len(testDataLoader)\n",
    "    accuracy = calculate_accu()\n",
    "    train_loss_history.append(train_loss)\n",
    "    test_loss_history.append(test_loss)\n",
    "    accuracy_history.append(calculate_accu())\n",
    "    print('Epoch %s, Train loss %s, Test loss %s, accuracy %s'%(epoch, train_loss, test_loss, accuracy), \"%\")"
   ]
  },
  {
   "cell_type": "code",
   "execution_count": 9,
   "metadata": {
    "scrolled": true
   },
   "outputs": [
    {
     "data": {
      "text/plain": [
       "<matplotlib.legend.Legend at 0x178ef1bff10>"
      ]
     },
     "execution_count": 9,
     "metadata": {},
     "output_type": "execute_result"
    },
    {
     "data": {
      "image/png": "[encoded data removed]",
      "text/plain": [
       "<Figure size 432x288 with 1 Axes>"
      ]
     },
     "metadata": {
      "needs_background": "light"
     },
     "output_type": "display_data"
    }
   ],
   "source": [
    "import matplotlib.pyplot as plt\n",
    "plt.plot(range(150),train_loss_history,'-',linewidth=3,label='Train loss')\n",
    "plt.plot(range(150),test_loss_history,'-',linewidth=3,label='Test loss')\n",
    "# plt.plot(range(100),accuracy,'-',linewidth=3,label='Accuracy')\n",
    "plt.xlabel('epoch')\n",
    "plt.ylabel('loss')\n",
    "plt.grid(True)\n",
    "plt.legend()"
   ]
  },
  {
   "cell_type": "code",
   "execution_count": 10,
   "metadata": {},
   "outputs": [
    {
     "name": "stdout",
     "output_type": "stream",
     "text": [
      "Accuracy:  87.5 %\n"
     ]
    }
   ],
   "source": [
    "print(\"Accuracy: \", \n",
    "(torch.eq(torch.max(predicted_output, 1) \n",
    "[1],labels).sum()/len(labels)*100).data.cpu().numpy(),\"%\")"
   ]
  },
  {
   "cell_type": "code",
   "execution_count": 11,
   "metadata": {},
   "outputs": [
    {
     "data": {
      "text/plain": [
       "<matplotlib.legend.Legend at 0x178e0d95b80>"
      ]
     },
     "execution_count": 11,
     "metadata": {},
     "output_type": "execute_result"
    },
    {
     "data": {
      "image/png": "[encoded data removed]",
      "text/plain": [
       "<Figure size 432x288 with 1 Axes>"
      ]
     },
     "metadata": {
      "needs_background": "light"
     },
     "output_type": "display_data"
    }
   ],
   "source": [
    "plt.plot(range(150),accuracy_history,'-',linewidth=3,label='Accuracy')\n",
    "plt.xlabel('epoch')\n",
    "plt.ylabel('Accuracy')\n",
    "plt.grid(True)\n",
    "plt.legend()"
   ]
  },
  {
   "cell_type": "code",
   "execution_count": 12,
   "metadata": {},
   "outputs": [],
   "source": [
    "## save model\n",
    "model_path = './project1_model.pt'\n",
    "torch.save(net.state_dict(), model_path)"
   ]
  },
  {
   "cell_type": "code",
   "execution_count": null,
   "metadata": {},
   "outputs": [],
   "source": []
  }
 ],
 "metadata": {
  "accelerator": "GPU",
  "colab": {
   "collapsed_sections": [],
   "name": "DLproject1.ipynb",
   "provenance": []
  },
  "kernelspec": {
   "display_name": "Python 3 (ipykernel)",
   "language": "python",
   "name": "python3"
  },
  "language_info": {
   "codemirror_mode": {
    "name": "ipython",
    "version": 3
   },
   "file_extension": ".py",
   "mimetype": "text/x-python",
   "name": "python",
   "nbconvert_exporter": "python",
   "pygments_lexer": "ipython3",
   "version": "3.9.7"
  }
 },
 "nbformat": 4,
 "nbformat_minor": 1
}
